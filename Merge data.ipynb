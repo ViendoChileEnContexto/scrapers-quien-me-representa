{
 "cells": [
  {
   "cell_type": "markdown",
   "metadata": {},
   "source": [
    "# Uniendo los datos\n",
    "\n",
    "Tomando el contenido de la carpeta `data`, se reunirá la información de las autoridades (de distintas fuentes) según los distintos niveles administrativos que representan. "
   ]
  },
  {
   "cell_type": "code",
   "execution_count": null,
   "metadata": {},
   "outputs": [],
   "source": [
    "import json\n",
    "import os\n",
    "import random"
   ]
  },
  {
   "cell_type": "markdown",
   "metadata": {},
   "source": [
    "El archivo `alcaldes.json` es probablemente el más completo de todos, ya que posee información de autoridades a distinto nivel para cada uno de los municipios (no comunas) del país. Destacar que la fuente de esos datos posee más información de cada municipio, lo que podría ser útil en versiones futuras de los datos (revisar fuente en README y *commit* respectivo). "
   ]
  },
  {
   "cell_type": "code",
   "execution_count": null,
   "metadata": {},
   "outputs": [],
   "source": [
    "# Ruta al archivo más completo\n",
    "ruta_alcaldes = os.path.join(\"data\", \"alcaldes.json\")\n",
    "# Cargar los datos del JSON\n",
    "with open(ruta_alcaldes, \"rt\", encoding=\"utf-8\") as archivo_alcaldes:\n",
    "    ALCALDES_JSON = json.load(archivo_alcaldes)\n",
    "\n",
    "# Correcciones:\n",
    "# En Chile, hay 345 municipalidades y 346 comunas, dado que la municipalidad \n",
    "# de Cabo de Hornos administra a Cabo de Hornos (comuna) y Antártica (comuna)\n",
    "ALCALDES_JSON[\"ANTÁRTICA\"] = ALCALDES_JSON[\"CABO DE HORNOS\"]\n",
    "# Las circunscripciones senatoriales no quedaron del todo bien parseadas,\n",
    "# por lo que hay que eliminar un espacio adicional que quedó en la mitad\n",
    "for comuna, datos in ALCALDES_JSON.items():\n",
    "    ALCALDES_JSON[comuna][\"circunscripcion\"] = \" \".join(datos[\"circunscripcion\"].split())"
   ]
  },
  {
   "cell_type": "markdown",
   "metadata": {},
   "source": [
    "Primero se obtienen los \"*tokens*\", a los que se les asignará un identificador para poder relacionar los datos entre sí más adelante."
   ]
  },
  {
   "cell_type": "markdown",
   "metadata": {},
   "source": [
    "### Comunas (alcaldes y concejales)"
   ]
  },
  {
   "cell_type": "code",
   "execution_count": null,
   "metadata": {},
   "outputs": [],
   "source": [
    "# 345 municipios y 346 comunas (división administrativa menor)\n",
    "COMUNAS = sorted(ALCALDES_JSON.keys())\n",
    "ID_COMUNAS = {\n",
    "    comuna: cid\n",
    "    for cid, comuna in enumerate(COMUNAS, 1)\n",
    "}\n",
    "print(f\"{len(COMUNAS)} comunas (alcalde)\") # Ver corrección de arriba"
   ]
  },
  {
   "cell_type": "markdown",
   "metadata": {},
   "source": [
    "### Circunscripciones provinciales (COREs)"
   ]
  },
  {
   "cell_type": "code",
   "execution_count": null,
   "metadata": {},
   "outputs": [],
   "source": [
    "# 64 circunscripciones provinciales (grupos de provincias)\n",
    "CIRCPROVS = sorted(set(map(lambda c: c.get(\"area\"), ALCALDES_JSON.values())))\n",
    "ID_CIRCPROVS = {\n",
    "    circprov: cid\n",
    "    for cid, circprov in enumerate(CIRCPROVS, 1)\n",
    "}\n",
    "print(f\"{len(CIRCPROVS)} circunscripciones provinciales (CORE)\")"
   ]
  },
  {
   "cell_type": "markdown",
   "metadata": {},
   "source": [
    "### Provincias (gobernador)"
   ]
  },
  {
   "cell_type": "code",
   "execution_count": null,
   "metadata": {},
   "outputs": [],
   "source": [
    "# 56 provincias (división administrativa intermedia)\n",
    "PROVINCIAS = sorted(set(map(lambda c: c.get(\"provincia\"), ALCALDES_JSON.values())))\n",
    "ID_PROVINCIAS = {\n",
    "    provincia: pid\n",
    "    for pid, provincia in enumerate(PROVINCIAS, 1)\n",
    "}\n",
    "print(f\"{len(PROVINCIAS)} provincias (gobernador)\")"
   ]
  },
  {
   "cell_type": "markdown",
   "metadata": {},
   "source": [
    "### Distritos (diputados)"
   ]
  },
  {
   "cell_type": "code",
   "execution_count": null,
   "metadata": {},
   "outputs": [],
   "source": [
    "# 28 distritos electorales (grupos de comunas)\n",
    "DISTRITOS = sorted(\n",
    "    set(map(lambda c: c.get(\"distrito\"), ALCALDES_JSON.values())),\n",
    "    key=lambda d: int(d[9:]),\n",
    ")\n",
    "ID_DISTRITOS = {\n",
    "    distrito: did\n",
    "    for did, distrito in enumerate(DISTRITOS, 1)\n",
    "}\n",
    "print(f\"{len(DISTRITOS)} distritos (diputado)\")"
   ]
  },
  {
   "cell_type": "markdown",
   "metadata": {},
   "source": [
    "### Regiones (intendentes)"
   ]
  },
  {
   "cell_type": "code",
   "execution_count": null,
   "metadata": {},
   "outputs": [],
   "source": [
    "# 16 regiones (división administrativa superior)\n",
    "REGIONES = sorted(set(map(lambda c: c.get(\"region\"), ALCALDES_JSON.values())))\n",
    "ID_REGIONES = {\n",
    "    region: rid\n",
    "    for rid, region in enumerate(REGIONES, 1)\n",
    "}\n",
    "print(f\"{len(REGIONES)} regiones (intendente)\")"
   ]
  },
  {
   "cell_type": "markdown",
   "metadata": {},
   "source": [
    "### Circunscripciones senatoriales (senadores)"
   ]
  },
  {
   "cell_type": "code",
   "execution_count": null,
   "metadata": {},
   "outputs": [],
   "source": [
    "def roman_to_int(roman):\n",
    "    roman = roman.replace(\"IV\", \"4\")\n",
    "    roman = roman.replace(\"IX\", \"9\")\n",
    "    translation = []\n",
    "    for digit in roman:\n",
    "        if digit == \"I\":\n",
    "            translation.append(1)\n",
    "        elif digit == \"V\":\n",
    "            translation.append(5)\n",
    "        elif digit == \"X\":\n",
    "            translation.append(10)\n",
    "        elif digit.isdigit():\n",
    "            translation.append(int(digit))\n",
    "    return sum(translation)\n",
    "\n",
    "\n",
    "# 15 ciscrunscripciones senatoriales (grupos de distritos de una misma región)\n",
    "CIRCSENS = sorted(\n",
    "    set(map(lambda c: c.get(\"circunscripcion\"), ALCALDES_JSON.values())),\n",
    "    key=lambda c: roman_to_int(c[16:]),\n",
    ")\n",
    "ID_CIRCSENS = {\n",
    "    circsen: cid\n",
    "    for cid, circsen in enumerate(CIRCSENS, 1)\n",
    "}\n",
    "print(f\"{len(CIRCSENS)} circunscripciones (senador)\")"
   ]
  },
  {
   "cell_type": "markdown",
   "metadata": {},
   "source": [
    "## Completando los datos\n",
    "\n",
    "En esta sección se dejarán cargados todos los archivos a utilizar, de forma de poder ir completando inmediatamente el *output* para cada una de las unidades administrativas o electorales."
   ]
  },
  {
   "cell_type": "markdown",
   "metadata": {},
   "source": [
    "### Comunas\n",
    "\n",
    "```python\n",
    "{\n",
    "    # Básico\n",
    "    \"nombre\": str,\n",
    "    \"lat\": float,\n",
    "    \"lng\": float,\n",
    "    # Referencias\n",
    "    \"codigo\": int,\n",
    "    \"otros\": {\n",
    "        \"circunscripcion_senatorial\": int,\n",
    "        \"circunscripcion_provincial\": int,\n",
    "        \"distrito\": int,\n",
    "        \"provincia\": int,\n",
    "        \"region\": int,\n",
    "    }, \n",
    "    # Autoridades\n",
    "    \"autoridades\": {\n",
    "        \"alcalde\": {\n",
    "            \"nombre\": str,\n",
    "            \"partido\": str,\n",
    "            \"url_img\": str,\n",
    "        },\n",
    "        \"concejal\": [\n",
    "            {\n",
    "                \"nombre\": str,\n",
    "                \"partido\": str,\n",
    "            },\n",
    "            ...\n",
    "        ]\n",
    "    }\n",
    "}\n",
    "```"
   ]
  },
  {
   "cell_type": "markdown",
   "metadata": {},
   "source": [
    "#### Carga datos"
   ]
  },
  {
   "cell_type": "code",
   "execution_count": null,
   "metadata": {},
   "outputs": [],
   "source": [
    "# Ruta al archivo más completo\n",
    "ruta_coord_comunas = os.path.join(\"data\", \"comunas.json\")\n",
    "# Cargar los datos del JSON\n",
    "with open(ruta_coord_comunas, \"rt\", encoding=\"utf-8\") as archivo_coord_comunas:\n",
    "    COORD_COMUNAS_JSON = json.load(archivo_coord_comunas)\n",
    "\n",
    "# Correcciones:\n",
    "# Es mejor tener los datos en un formato de diccionario, donde la llave sea\n",
    "# el nombre de la comuna y el valor los datos restantes. Corrección manual\n",
    "COORD_COMUNAS = {comuna: None for comuna in COMUNAS}\n",
    "for datos_comuna in COORD_COMUNAS_JSON:\n",
    "    nombre_comuna = datos_comuna[\"nombre\"].upper()\n",
    "    if nombre_comuna in COORD_COMUNAS:\n",
    "        COORD_COMUNAS[nombre_comuna] = datos_comuna\n",
    "    elif nombre_comuna == \"COIHAIQUE\":\n",
    "        COORD_COMUNAS[\"COYHAIQUE\"] = datos_comuna\n",
    "    elif nombre_comuna == \"O’HIGGINS\":\n",
    "        COORD_COMUNAS[\"O´HIGGINS\"] = datos_comuna\n",
    "    elif nombre_comuna == \"REQUÍNOA\":\n",
    "        COORD_COMUNAS[\"REQUINOA\"] = datos_comuna\n",
    "    elif nombre_comuna == \"SANTIAGO CENTRO\":\n",
    "        COORD_COMUNAS[\"SANTIAGO\"] = datos_comuna\n",
    "    elif nombre_comuna == \"TREGUACO\":\n",
    "        COORD_COMUNAS[\"TREHUACO\"] = datos_comuna\n",
    "    else:\n",
    "        print(f\"Falta en JSON: {nombre_comuna}\")\n",
    "\n",
    "for comuna, datos in COORD_COMUNAS.items():\n",
    "    if datos is None:\n",
    "        print(f\"Falta en COORD: {comuna}\")\n"
   ]
  },
  {
   "cell_type": "markdown",
   "metadata": {},
   "source": [
    "#### Datos completos"
   ]
  },
  {
   "cell_type": "code",
   "execution_count": null,
   "metadata": {
    "scrolled": false
   },
   "outputs": [],
   "source": [
    "DATOS_COMUNAS = {}\n",
    "for comuna in COMUNAS:\n",
    "    datos = ALCALDES_JSON[comuna]\n",
    "    DATOS_COMUNAS[comuna] = {\n",
    "        # Básico\n",
    "        \"nombre\": comuna,\n",
    "        \"lat\": COORD_COMUNAS.get(comuna, {}).get(\"lat\"),\n",
    "        \"lng\": COORD_COMUNAS.get(comuna, {}).get(\"lng\"),\n",
    "        # Referencias\n",
    "        \"codigo\": ID_COMUNAS.get(comuna),\n",
    "        \"otros\": {\n",
    "            \"circunscripcion_senatorial\": ID_CIRCSENS.get(datos.get(\"circunscripcion\")),\n",
    "            \"circunscripcion_provincial\": ID_CIRCPROVS.get(datos.get(\"area\")),\n",
    "            \"distrito\": ID_DISTRITOS.get(datos.get(\"distrito\")),\n",
    "            \"provincia\": ID_PROVINCIAS.get(datos.get(\"provincia\")),\n",
    "            \"region\": ID_REGIONES.get(datos.get(\"region\")),\n",
    "        },\n",
    "        # Autoridades\n",
    "        \"autoridades\": {\n",
    "            \"alcalde\": {\n",
    "                \"nombre\": datos.get(\"alcalde\", {}).get(\"nombre\"),\n",
    "                \"partido\": datos.get(\"alcalde\", {}).get(\"partido\"),\n",
    "                \"url_img\": datos.get(\"alcalde\", {}).get(\"url_img\"),\n",
    "            },\n",
    "            \"concejal\": [\n",
    "                {\"nombre\": concejal.get(\"nombre\"), \"partido\": concejal.get(\"partido\")}\n",
    "                for concejal in datos.get(\"concejales\")\n",
    "            ],\n",
    "        }\n",
    "    }\n",
    "\n",
    "comuna_sample = random.choice(COMUNAS)\n",
    "datos_sample = DATOS_COMUNAS[comuna_sample]\n",
    "print(comuna_sample)\n",
    "print(json.dumps(datos_sample, indent=4))"
   ]
  },
  {
   "cell_type": "code",
   "execution_count": null,
   "metadata": {},
   "outputs": [],
   "source": [
    "ruta_output_comunas = os.path.join(\"output\", \"comunas.json\")\n",
    "with open(ruta_output_comunas, \"wt\", encoding=\"utf-8\") as output_comunas_json:\n",
    "    json.dump(\n",
    "        DATOS_COMUNAS, output_comunas_json,\n",
    "        sort_keys=False, indent=4,\n",
    "        separators=(',', ': '), ensure_ascii=False,\n",
    ")\n"
   ]
  }
 ],
 "metadata": {
  "kernelspec": {
   "display_name": "Python 3",
   "language": "python",
   "name": "python3"
  },
  "language_info": {
   "codemirror_mode": {
    "name": "ipython",
    "version": 3
   },
   "file_extension": ".py",
   "mimetype": "text/x-python",
   "name": "python",
   "nbconvert_exporter": "python",
   "pygments_lexer": "ipython3",
   "version": "3.6.7"
  },
  "varInspector": {
   "cols": {
    "lenName": 16,
    "lenType": 16,
    "lenVar": 40
   },
   "kernels_config": {
    "python": {
     "delete_cmd_postfix": "",
     "delete_cmd_prefix": "del ",
     "library": "var_list.py",
     "varRefreshCmd": "print(var_dic_list())"
    },
    "r": {
     "delete_cmd_postfix": ") ",
     "delete_cmd_prefix": "rm(",
     "library": "var_list.r",
     "varRefreshCmd": "cat(var_dic_list()) "
    }
   },
   "types_to_exclude": [
    "module",
    "function",
    "builtin_function_or_method",
    "instance",
    "_Feature"
   ],
   "window_display": false
  }
 },
 "nbformat": 4,
 "nbformat_minor": 2
}
